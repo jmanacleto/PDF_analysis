{
 "cells": [
  {
   "cell_type": "markdown",
   "metadata": {},
   "source": [
    "## Testes de Bibliotecas"
   ]
  },
  {
   "cell_type": "code",
   "execution_count": 1,
   "metadata": {},
   "outputs": [],
   "source": [
    "import PyPDF2\n",
    "import fitz\n",
    "import pdfplumber\n",
    "import os"
   ]
  },
  {
   "cell_type": "markdown",
   "metadata": {},
   "source": [
    "# PyPDF2"
   ]
  },
  {
   "cell_type": "code",
   "execution_count": null,
   "metadata": {},
   "outputs": [],
   "source": [
    "# Abrir o arquivo PDF\n",
    "pdf_file = open('C:/xxxxxxxxxx/xxxxxxx/xxxxxxx.pdf', 'rb')\n",
    "\n",
    "# Criar um leitor de PDF\n",
    "pdf_reader = PyPDF2.PdfReader(pdf_file)\n",
    "\n",
    "# Ler todas as páginas e imprimir no console\n",
    "for page_num in range(len(pdf_reader.pages)):\n",
    "    page = pdf_reader.pages[page_num]\n",
    "    print(page.extract_text())\n",
    "\n",
    "# Fechar o arquivo PDF\n",
    "pdf_file.close()\n"
   ]
  },
  {
   "cell_type": "markdown",
   "metadata": {},
   "source": [
    "## PyMuPDF"
   ]
  },
  {
   "cell_type": "code",
   "execution_count": null,
   "metadata": {},
   "outputs": [],
   "source": [
    "# Caminho para o arquivo PDF\n",
    "pdf_path = 'C:/xxxxxxxxxx/xxxxxxx/xxxxxxx.pdf'\n",
    "\n",
    "# Abrir o arquivo PDF\n",
    "pdf_document = fitz.open(pdf_path)\n",
    "\n",
    "# Iterar sobre as páginas e extrair texto\n",
    "for page_num in range(len(pdf_document)):\n",
    "    page = pdf_document.load_page(page_num)\n",
    "    text = page.get_text()\n",
    "    print(text)\n",
    "\n",
    "# Fechar o arquivo PDF\n",
    "pdf_document.close()\n"
   ]
  },
  {
   "cell_type": "markdown",
   "metadata": {},
   "source": [
    "## PDFplumber"
   ]
  },
  {
   "cell_type": "code",
   "execution_count": null,
   "metadata": {},
   "outputs": [],
   "source": [
    "# Caminho para o arquivo PDF\n",
    "pdf_path = 'C:/xxxxxxxxxx/xxxxxxx/xxxxxxx.pdf'\n",
    "\n",
    "# Abrir o arquivo PDF\n",
    "with pdfplumber.open(pdf_path) as pdf:\n",
    "    # Iterar sobre as páginas e extrair texto\n",
    "    for page in pdf.pages:\n",
    "        text = page.extract_text()\n",
    "        print(text)\n"
   ]
  },
  {
   "cell_type": "markdown",
   "metadata": {},
   "source": [
    "## Arquivos PDF´s transformados em TXT"
   ]
  },
  {
   "cell_type": "code",
   "execution_count": null,
   "metadata": {},
   "outputs": [],
   "source": [
    "def pdf_to_text(pdf_path, output_folder):\n",
    "    # Cria o diretório de saída se não existir\n",
    "    if not os.path.exists(output_folder):\n",
    "        os.makedirs(output_folder)\n",
    "    \n",
    "    # Obtém o nome do arquivo sem a extensão\n",
    "    file_name = os.path.splitext(os.path.basename(pdf_path))[0]\n",
    "    \n",
    "    # Define o caminho de saída para o arquivo de texto\n",
    "    text_file_path = os.path.join(output_folder, f\"{file_name}.txt\")\n",
    "    \n",
    "    # Abre o arquivo PDF\n",
    "    with pdfplumber.open(pdf_path) as pdf:\n",
    "        text = \"\"\n",
    "        # Itera sobre cada página do PDF\n",
    "        for page in pdf.pages:\n",
    "            # Extrai o texto da página atual\n",
    "            page_text = page.extract_text()\n",
    "            # Concatena o texto extraído\n",
    "            text += page_text + \"/n\"\n",
    "        \n",
    "        # Escreve o texto extraído em um arquivo de texto\n",
    "        with open(text_file_path, \"w\", encoding=\"utf-8\") as text_file:\n",
    "            text_file.write(text)\n",
    "    \n",
    "    print(f\"Arquivo PDF convertido para texto: {text_file_path}\")\n",
    "\n",
    "def convert_pdfs_in_folder(folder_path, output_folder):\n",
    "    # Itera sobre todos os arquivos na pasta\n",
    "    for file_name in os.listdir(folder_path):\n",
    "        # Verifica se o arquivo é um PDF\n",
    "        if file_name.endswith(\".pdf\"):\n",
    "            # Caminho completo do arquivo PDF\n",
    "            pdf_path = os.path.join(folder_path, file_name)\n",
    "            # Converte o arquivo PDF em texto\n",
    "            pdf_to_text(pdf_path, output_folder)\n",
    "\n",
    "def main():\n",
    "    # Pasta contendo os arquivos PDF\n",
    "    input_folder = 'C:/xxxxxxxxxx/xxxxxxx/xxxxxxx'\n",
    "    # Pasta de saída para os arquivos de texto\n",
    "    output_folder = 'C:/xxxxxxxxxx/xxxxxxx/xxxxxxx'\n",
    "    \n",
    "    # Converte todos os arquivos PDF na pasta de entrada para arquivos de texto na pasta de saída\n",
    "    convert_pdfs_in_folder(input_folder, output_folder)\n",
    "\n",
    "if __name__ == \"__main__\":\n",
    "    main()\n"
   ]
  },
  {
   "cell_type": "markdown",
   "metadata": {},
   "source": [
    "## Separação de arquivos .TXT (Codificados) & (Não codificado)"
   ]
  },
  {
   "cell_type": "code",
   "execution_count": null,
   "metadata": {},
   "outputs": [],
   "source": [
    "def read_text_file(file_path):\n",
    "    with open(file_path, \"r\", encoding=\"utf-8\") as file:\n",
    "        return file.read()\n",
    "\n",
    "def is_text_decoded(text):\n",
    "    # Aqui você pode adicionar palavras-chave que indicam que o texto está decodificado\n",
    "    keywords = [\"xxxxxxxxxxxxxxxxxx\"]\n",
    "    for keyword in keywords:\n",
    "        if keyword in text:\n",
    "            return True\n",
    "    return False\n",
    "\n",
    "def main():\n",
    "    # Diretório contendo os arquivos TXT\n",
    "    txt_directory = 'C:/xxxxxxxxxx/xxxxxxx/xxxxxxx'\n",
    "    \n",
    "    # Lista para armazenar o estado de decodificação de cada arquivo\n",
    "    decoded_files = []\n",
    "    \n",
    "    # Iterar sobre todos os arquivos no diretório\n",
    "    for file_name in os.listdir(txt_directory):\n",
    "        # Verificar se o arquivo é um arquivo TXT\n",
    "        if file_name.endswith(\".txt\"):\n",
    "            file_path = os.path.join(txt_directory, file_name)\n",
    "            text = read_text_file(file_path)\n",
    "            if is_text_decoded(text):\n",
    "                decoded_files.append((file_name, \"Não codificado\"))\n",
    "            else:\n",
    "                decoded_files.append((file_name, \"Codificado\"))\n",
    "    \n",
    "    # Exibir o resultado para cada arquivo\n",
    "    for file_name, status in decoded_files:\n",
    "        print(f\"Arquivo: {file_name} - Status: {status}\")\n",
    "\n",
    "if __name__ == \"__main__\":\n",
    "    main()\n"
   ]
  },
  {
   "cell_type": "markdown",
   "metadata": {},
   "source": [
    "## Encontrando número do NUP"
   ]
  },
  {
   "cell_type": "code",
   "execution_count": null,
   "metadata": {},
   "outputs": [],
   "source": [
    "def buscaNumNUPParecer(folder_path):\n",
    "    nup_dict = {}\n",
    "    for file_name in os.listdir(folder_path):\n",
    "        if file_name.endswith(\".pdf\"):\n",
    "            file_path = os.path.join(folder_path, file_name)\n",
    "            try:\n",
    "                with fitz.open(file_path) as doc:\n",
    "                    page = doc[0]  # Apenas a primeira página é processada\n",
    "                    # Caixa delimitadora para a área desejada (em pontos)(min_x, min_y, max_x, max_y)\n",
    "                    rect = fitz.Rect(200, 0, 595, 100)\n",
    "                    # Extraia o texto da área desejada\n",
    "                    text_body = page.get_textbox(rect)\n",
    "                    numero_parecer = re.search(r\"48516\\.\\d{6}/20\\d{2}-\\d{2}\", text_body)\n",
    "                    if numero_parecer:\n",
    "                        nup = numero_parecer.group()\n",
    "                        nup_dict.setdefault(nup, []).append(file_name)\n",
    "            except Exception as e:\n",
    "                print(f\"Erro ao processar o arquivo {file_name}: {e}\")\n",
    "    return nup_dict\n",
    "\n",
    "if __name__ == \"__main__\":\n",
    "    folder_path = 'C:/xxxxxxxxxx/xxxxxxx/xxxxxxx'  # Substitua pelo caminho da sua pasta\n",
    "    nup_dict = buscaNumNUPParecer(folder_path)\n",
    "    if nup_dict:\n",
    "        print(\"Números de NUP encontrados nos arquivos PDF:\")\n",
    "        for nup, files in nup_dict.items():\n",
    "            print(f\"NUP: {nup}\")\n",
    "            print(\"Arquivos:\")\n",
    "            for file in files:\n",
    "                print(file)\n",
    "            print()\n",
    "    else:\n",
    "        print(\"Nenhum número de NUP encontrado nos arquivos PDF.\")\n"
   ]
  }
 ],
 "metadata": {
  "kernelspec": {
   "display_name": "Python 3",
   "language": "python",
   "name": "python3"
  },
  "language_info": {
   "codemirror_mode": {
    "name": "ipython",
    "version": 3
   },
   "file_extension": ".py",
   "mimetype": "text/x-python",
   "name": "python",
   "nbconvert_exporter": "python",
   "pygments_lexer": "ipython3",
   "version": "3.10.6"
  }
 },
 "nbformat": 4,
 "nbformat_minor": 2
}
